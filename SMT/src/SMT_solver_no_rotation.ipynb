{
 "nbformat": 4,
 "nbformat_minor": 0,
 "metadata": {
  "colab": {
   "name": "SMT_solver_no_rotation.ipynb",
   "provenance": []
  },
  "kernelspec": {
   "name": "python3",
   "display_name": "Python 3"
  },
  "language_info": {
   "name": "python"
  }
 },
 "cells": [
  {
   "cell_type": "markdown",
   "source": [
    "#SMT"
   ],
   "metadata": {
    "id": "SjuuEO19Mjh2"
   }
  },
  {
   "cell_type": "code",
   "execution_count": 1,
   "metadata": {
    "colab": {
     "base_uri": "https://localhost:8080/"
    },
    "id": "kwkhdnYAMaX8",
    "outputId": "1458a5db-4a0c-46ca-f1ce-cb9d783550bc"
   },
   "outputs": [
    {
     "output_type": "stream",
     "name": "stderr",
     "text": [
      "fatal: destination path 'VLSI_CDMO' already exists and is not an empty directory.\n"
     ]
    },
    {
     "output_type": "stream",
     "name": "stdout",
     "text": [
      "Requirement already satisfied: z3-solver in c:\\users\\francesco.farinola\\appdata\\local\\programs\\python\\python38\\lib\\site-packages (4.8.14.0)\n"
     ]
    },
    {
     "output_type": "stream",
     "name": "stderr",
     "text": [
      "WARNING: You are using pip version 21.3.1; however, version 22.0.3 is available.\n",
      "You should consider upgrading via the 'c:\\users\\francesco.farinola\\appdata\\local\\programs\\python\\python38\\python.exe -m pip install --upgrade pip' command.\n"
     ]
    }
   ],
   "source": [
    "!git clone https://github.com/FrancescoFarinola/VLSI_CDMO\n",
    "!pip install z3-solver\n",
    "from z3 import *"
   ]
  },
  {
   "cell_type": "code",
   "source": [
    "from VLSI_CDMO.utils import input, output\n",
    "import os\n",
    "import numpy as np"
   ],
   "metadata": {
    "id": "kl3JbU68MyDM"
   },
   "execution_count": 2,
   "outputs": []
  },
  {
   "cell_type": "markdown",
   "source": [
    "#Model"
   ],
   "metadata": {
    "id": "zscYVl_nQ4vN"
   }
  },
  {
   "cell_type": "code",
   "source": [
    "def bound_coordinates(coordinate, size, max):\n",
    "    '''\n",
    "    Generic decomposition of the implied constraints to define the lower and upper bounds of the output coordinates \n",
    "    Calls to this function have to be made with:\n",
    "        - x, width and plate_w\n",
    "        - y, height and plate_h\n",
    "    @Args:\n",
    "    - coordinate : indicates the coordinate on the axis (either x or y) (IntVector)\n",
    "    - size : indicates the size of the axis (either width or height) (array of int)\n",
    "    - max : indicates the upper bound for values taken by coordinate (either plate_w or plate_h) (int)\n",
    "    '''\n",
    "    decomposition = []\n",
    "    for i in range(len(coordinate)):\n",
    "        decomposition.append(And(coordinate[i] >= 0,              # Lower bound\n",
    "                                 coordinate[i] + size[i] <= max)) # Upper bound\n",
    "    return decomposition\n",
    "\n",
    "def diffn(x, y, width, height):\n",
    "    '''\n",
    "    This function defines the decomposition of the diffn global constraint in order to assure\n",
    "    no overlap between circuits. Simply sum between the coordinate x and width x of a circuit \n",
    "    has to be lesser or equal than the coordinate x of another circuit.\n",
    "    @Args:\n",
    "    - x : array of x coordinates (IntVector)\n",
    "    - y : array of y coordinates (IntVector)\n",
    "    - width : array of widths of the circuits (array of int)\n",
    "    - height : array of heights of the circuits (array of int)\n",
    "    '''\n",
    "    decomposition = []\n",
    "    n = len(x)\n",
    "    for i in range(n):\n",
    "        for j in range(i+1,n):\n",
    "            decomposition.append(Or([x[i] + width[i]  <= x[j],\n",
    "                                     y[i] + height[i] <= y[j],\n",
    "                                     x[j] + width[j]  <= x[i],\n",
    "                                     y[j] + height[j] <= y[i]]))\n",
    "    return decomposition\n",
    "\n",
    "'''\n",
    "def cumulative(start, duration, resources, total):\n",
    "    Requires that a set of tasks given by start times, durations, and resource requirements, \n",
    "    never require more than a global resource bound 'total' at any one time.\n",
    "    This can be adapted to our case in which start times can be seen as coordinates x (respectively y),\n",
    "    duration can be seen as the width of rectangles (respectively height), resources as the height\n",
    "    (respectively width) and the total amount of resources as the maximum height (respectively\n",
    "    the maximum width) of the plate\n",
    "    @Args:\n",
    "    - start : array of coordinates (IntVector)\n",
    "    - duration : size of circuits (array of int)\n",
    "    - resources : size of circuits (array of int)\n",
    "    - total : maximum size of the plate (int)\n",
    "    \n",
    "    decomposition = []\n",
    "    tasks = [i for i in range(len(start)) if resources[i] > 0 and duration[i] > 0] #Assumptions of cumulative constrain r[i] and d[i]>0\n",
    "    for i in tasks:\n",
    "        decomposition.append(\n",
    "            Sum([If(And(start[i] <= resources[i], resources[i] < start[j] + duration[j]), resources[j], 0)\n",
    "                 for j in range(len(start))]) <= total\n",
    "        )\n",
    "    return decomposition\n",
    "'''\n",
    "\n",
    "\n",
    "\n",
    "\n",
    "\n",
    "def force_adjacency(coordinate, size):\n",
    "    decomposition = []\n",
    "    for i in range(len(coordinate)):\n",
    "        lst = [0]\n",
    "        for j in range(len(coordinate)):\n",
    "            if i != j:\n",
    "                lst.append(coordinate[j]+size[j])                   # Creates list of possible adjacency values \n",
    "        decomposition.append(Or([coordinate[i] == j for j in lst])) # Encoding of Member constraint\n",
    "    return decomposition\n",
    "\n",
    "\n",
    "def same_dimensions(x, y, width, height):\n",
    "    decomposition = []\n",
    "    for i in range(len(width)):\n",
    "        for j in range(i+1, len(width)):\n",
    "            decomposition.append(Implies(And(width[i] == width[j], height[i] == height[j]),\n",
    "                                         Or(And(x[i] <  x[j], y[i] <= y[j]),\n",
    "                                            And(x[i] <= x[j], y[i] <  y[j]))))\n",
    "    return decomposition\n",
    "\n",
    "\n",
    "def place_biggest_circuit(x, y, area):\n",
    "    return [Or(And(x[area[0]] <  x[area[1]], y[area[0]] <= y[area[1]]), And(x[area[0]] <= x[area[1]], y[area[0]] <  y[area[0]]))]\n"
   ],
   "metadata": {
    "id": "6nj-iOXZZEPZ"
   },
   "execution_count": 3,
   "outputs": []
  },
  {
   "cell_type": "code",
   "source": [
    "def write_output(filename, plate_w):\n",
    "    out_file = \"out/\" + os.path.basename(filename).replace('ins', 'out')\n",
    "    with open(out_file, 'w') as f:\n",
    "        f.write(\"{0} {1}\\n\".format(instance[\"plate_w\"], result[\"plate_h\"]))\n",
    "        f.write(\"{0}\\n\".format(instance[\"n\"]))\n",
    "        for i in range(0,instance[\"n\"]):\n",
    "            if rotation:\n",
    "                if result[\"rotation\"][i]:\n",
    "                    f.write(\"{0} {1} {2} {3}\\n\".format(instance[\"height\"][i], instance[\"width\"][i], result[\"c_x\"][i], result[\"c_y\"][i]))\n",
    "                else:\n",
    "                    f.write(\"{0} {1} {2} {3}\\n\".format(instance[\"width\"][i], instance[\"height\"][i], result[\"c_x\"][i], result[\"c_y\"][i]))\n",
    "            else:\n",
    "                f.write(\"{0} {1} {2} {3}\\n\".format(instance[\"width\"][i], instance[\"height\"][i], result[\"c_x\"][i], result[\"c_y\"][i]))\n",
    "    return out_file"
   ],
   "metadata": {
    "id": "QQs-KHLT0TC4"
   },
   "execution_count": null,
   "outputs": []
  },
  {
   "cell_type": "code",
   "source": [
    "import time\n",
    "path = \"VLSI_CDMO/instances/\"\n",
    "input_files = sorted(sorted([path + i for i in os.listdir(path)], key=len)[:9]) + sorted(sorted([path + i for i in os.listdir(path)], key=len)[9:])\n",
    "for i in input_files:\n",
    "  print(\"Solving instance {0}\".format(i))\n",
    "  plate_w, n, width, height = input.read_instance(i)\n",
    "\n",
    "  s = Optimize()\n",
    "\n",
    "  plate_h = Int('plate_h')\n",
    "  x = IntVector('x', n)\n",
    "  y = IntVector('y', n)\n",
    "\n",
    "  areas = sorted(np.argsort([height[i] * width[i] for i in range(n)]), reverse=True) #indexes of circuits sorted by decreasing area\n",
    "\n",
    "\n",
    "  s.add(bound_coordinates(x, width, plate_w) +\n",
    "        bound_coordinates(y, height, plate_h) +\n",
    "        diffn(x, y, width, height) +\n",
    "        #cumulative1(x, width, height, plate_h) + \n",
    "        #cumulative1(y, height, width, plate_w) + \n",
    "        force_adjacency(x, width) +\n",
    "        force_adjacency(y, height) +\n",
    "        same_dimensions(x, y, width, height) +\n",
    "        place_biggest_circuit(x, y, areas)\n",
    "  )\n",
    "  s.set(timeout=300*1000)\n",
    "  s.assertions()\n",
    "  s.minimize(plate_h)\n",
    "  start_time = time.time()\n",
    "  if s.check() == sat:\n",
    "      m = s.model()\n",
    "      circuits_pos = [(wi, hi, m.eval(xi).as_long(), m.eval(yi).as_long()) for wi, hi, xi, yi in zip(width, height, x, y)]\n",
    "      h = m.eval(plate_h).as_long()\n",
    "\n",
    "      print(plate_w, h, circuits_pos, time.time() - start_time)\n",
    "  else:\n",
    "      print(\"No solution found - UNSAT\")"
   ],
   "metadata": {
    "colab": {
     "base_uri": "https://localhost:8080/"
    },
    "id": "wqXat5EWQ_XV",
    "outputId": "23cf467e-0d4f-4781-bb3f-087153b10fd6",
    "pycharm": {
     "name": "#%%\n"
    }
   },
   "execution_count": null,
   "outputs": [
    {
     "output_type": "stream",
     "name": "stdout",
     "text": [
      "Solving instance VLSI_CDMO/instances/ins-1.txt\n",
      "8 8 [(3, 3, 0, 5), (3, 5, 5, 0), (5, 3, 3, 5), (5, 5, 0, 0)] 0.007978677749633789\n",
      "Solving instance VLSI_CDMO/instances/ins-2.txt\n",
      "9 9 [(3, 3, 3, 0), (3, 4, 6, 0), (3, 5, 6, 4), (3, 6, 3, 3), (3, 9, 0, 0)] 0.018949031829833984\n",
      "Solving instance VLSI_CDMO/instances/ins-3.txt\n",
      "10 10 [(3, 3, 0, 0), (3, 4, 3, 6), (3, 6, 7, 0), (3, 7, 0, 3), (4, 4, 6, 6), (4, 6, 3, 0)] 0.03989410400390625\n",
      "Solving instance VLSI_CDMO/instances/ins-4.txt\n",
      "11 11 [(3, 3, 3, 8), (3, 4, 3, 4), (3, 5, 0, 0), (3, 6, 0, 5), (5, 3, 6, 4), (5, 4, 6, 7), (8, 4, 3, 0)] 0.04787254333496094\n",
      "Solving instance VLSI_CDMO/instances/ins-5.txt\n",
      "12 12 [(3, 3, 3, 3), (3, 4, 9, 8), (3, 5, 0, 0), (3, 6, 3, 6), (3, 7, 0, 5), (3, 8, 9, 0), (3, 9, 6, 3), (6, 3, 3, 0)] 0.13867402076721191\n",
      "Solving instance VLSI_CDMO/instances/ins-6.txt\n",
      "13 13 [(3, 3, 0, 6), (3, 4, 0, 9), (3, 5, 10, 8), (3, 6, 7, 7), (3, 7, 7, 0), (3, 8, 10, 0), (4, 3, 3, 10), (4, 4, 3, 6), (7, 6, 0, 0)] 0.23035144805908203\n",
      "Solving instance VLSI_CDMO/instances/ins-7.txt\n",
      "14 14 [(3, 3, 5, 0), (3, 4, 0, 10), (3, 5, 11, 9), (3, 6, 8, 0), (3, 7, 5, 3), (3, 8, 8, 6), (3, 9, 11, 0), (5, 4, 3, 10), (5, 10, 0, 0)] 0.14679312705993652\n",
      "Solving instance VLSI_CDMO/instances/ins-8.txt\n",
      "15 15 [(3, 3, 0, 0), (3, 4, 9, 3), (3, 5, 6, 3), (3, 6, 3, 0), (3, 7, 6, 8), (3, 8, 9, 7), (3, 9, 3, 6), (3, 12, 0, 3), (3, 15, 12, 0), (6, 3, 6, 0)] 0.3061823844909668\n",
      "Solving instance VLSI_CDMO/instances/ins-9.txt\n",
      "16 16 [(3, 3, 13, 0), (3, 4, 0, 0), (3, 5, 13, 3), (3, 6, 10, 0), (3, 7, 3, 9), (3, 8, 13, 8), (3, 10, 10, 6), (3, 12, 0, 4), (4, 7, 6, 9), (7, 9, 3, 0)] 0.4616825580596924\n",
      "Solving instance VLSI_CDMO/instances/ins-10.txt\n",
      "17 17 [(3, 3, 0, 8), (3, 4, 3, 0), (3, 5, 14, 0), (3, 6, 7, 11), (3, 7, 3, 4), (3, 8, 0, 0), (3, 9, 14, 5), (4, 3, 6, 8), (4, 8, 6, 0), (4, 14, 10, 0), (7, 3, 10, 14), (7, 6, 0, 11)] 1.0113310813903809\n",
      "Solving instance VLSI_CDMO/instances/ins-11.txt\n",
      "No solution found - UNSAT\n",
      "Solving instance VLSI_CDMO/instances/ins-12.txt\n",
      "19 19 [(3, 3, 16, 0), (3, 4, 3, 0), (3, 5, 16, 3), (3, 6, 6, 13), (3, 7, 3, 12), (3, 8, 3, 4), (3, 9, 0, 10), (3, 10, 0, 0), (3, 11, 12, 8), (3, 13, 6, 0), (3, 19, 9, 0), (4, 5, 15, 14), (4, 6, 15, 8), (4, 8, 12, 0)] 2.794935941696167\n",
      "Solving instance VLSI_CDMO/instances/ins-13.txt\n",
      "20 20 [(3, 3, 17, 17), (3, 4, 0, 0), (3, 5, 7, 0), (3, 6, 0, 14), (3, 7, 7, 5), (3, 8, 7, 12), (3, 9, 14, 11), (3, 10, 0, 4), (3, 11, 14, 0), (3, 17, 17, 0), (4, 3, 3, 17), (4, 9, 10, 0), (4, 11, 10, 9), (4, 17, 3, 0)] 3.0223228931427\n",
      "Solving instance VLSI_CDMO/instances/ins-14.txt\n",
      "21 21 [(3, 3, 14, 0), (3, 4, 3, 0), (3, 5, 11, 0), (3, 6, 6, 15), (3, 7, 0, 0), (3, 8, 3, 13), (3, 9, 3, 4), (3, 10, 11, 5), (3, 14, 0, 7), (3, 18, 14, 3), (4, 4, 17, 17), (4, 6, 17, 11), (4, 11, 17, 0), (5, 6, 9, 15), (5, 15, 6, 0)] 3.4315836429595947\n",
      "Solving instance VLSI_CDMO/instances/ins-15.txt\n",
      "22 22 [(3, 3, 9, 0), (3, 4, 0, 13), (3, 5, 0, 17), (3, 6, 9, 16), (3, 7, 3, 15), (3, 8, 12, 14), (3, 9, 0, 4), (3, 10, 6, 0), (3, 11, 3, 4), (3, 12, 6, 10), (3, 13, 9, 3), (3, 14, 12, 0), (3, 22, 15, 0), (4, 3, 18, 19), (4, 19, 18, 0), (6, 4, 0, 0)] 4.907954216003418\n",
      "Solving instance VLSI_CDMO/instances/ins-16.txt\n",
      "No solution found - UNSAT\n",
      "Solving instance VLSI_CDMO/instances/ins-17.txt\n"
     ]
    }
   ]
  }
 ]
}